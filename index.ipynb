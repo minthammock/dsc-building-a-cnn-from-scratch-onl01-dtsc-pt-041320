{
 "cells": [
  {
   "cell_type": "markdown",
   "metadata": {},
   "source": [
    "# Building a CNN from Scratch - Lab\n",
    "\n",
    "## Introduction\n",
    "\n",
    "Now that you have background knowledge regarding how CNNs work and how to build them using Keras, its time to practice those skills a little more independently in order to build a CNN on your own to solve a image recognition problem. In this lab, you'll practice building an image classifier from start to finish using a CNN.  \n",
    "\n",
    "## Objectives\n",
    "\n",
    "In this lab you will: \n",
    "\n",
    "- Load images from a hierarchical file structure using an image datagenerator \n",
    "- Apply data augmentation to image files before training a neural network \n",
    "- Build a CNN using Keras \n",
    "- Visualize and evaluate the performance of CNN models \n",
    "\n",
    "## Loading the Images\n",
    "\n",
    "The data for this lab concerns lung xray images for pneumonia. The original dataset is from Kaggle. We have downsampled this dataset in order to reduce training time for you when you design and fit your model to the data. ⏰ It is anticipated that this process will take approximately one hour to run on a standard machine, although times will vary depending on your particular computer and set up. At the end of this lab, you are welcome to try training on the complete dataset and observe the impact on the model's overall accuracy. \n",
    "\n",
    "You can find the initial downsampled dataset in a subdirectory, **chest_xray**, of this repository. "
   ]
  },
  {
   "cell_type": "code",
   "execution_count": 1,
   "metadata": {},
   "outputs": [],
   "source": [
    "# Load the images; be sure to also preprocess these into tensors \n",
    "\n",
    "train_dir = 'chest_xray_downsampled/train'\n",
    "validation_dir = 'chest_xray_downsampled/val/'\n",
    "test_dir = 'chest_xray_downsampled/test/' "
   ]
  },
  {
   "cell_type": "code",
   "execution_count": 2,
   "metadata": {},
   "outputs": [
    {
     "name": "stderr",
     "output_type": "stream",
     "text": [
      "C:\\ProgramData\\Anaconda3\\lib\\site-packages\\tensorflow\\python\\framework\\dtypes.py:516: FutureWarning: Passing (type, 1) or '1type' as a synonym of type is deprecated; in a future version of numpy, it will be understood as (type, (1,)) / '(1,)type'.\n",
      "  _np_qint8 = np.dtype([(\"qint8\", np.int8, 1)])\n",
      "C:\\ProgramData\\Anaconda3\\lib\\site-packages\\tensorflow\\python\\framework\\dtypes.py:517: FutureWarning: Passing (type, 1) or '1type' as a synonym of type is deprecated; in a future version of numpy, it will be understood as (type, (1,)) / '(1,)type'.\n",
      "  _np_quint8 = np.dtype([(\"quint8\", np.uint8, 1)])\n",
      "C:\\ProgramData\\Anaconda3\\lib\\site-packages\\tensorflow\\python\\framework\\dtypes.py:518: FutureWarning: Passing (type, 1) or '1type' as a synonym of type is deprecated; in a future version of numpy, it will be understood as (type, (1,)) / '(1,)type'.\n",
      "  _np_qint16 = np.dtype([(\"qint16\", np.int16, 1)])\n",
      "C:\\ProgramData\\Anaconda3\\lib\\site-packages\\tensorflow\\python\\framework\\dtypes.py:519: FutureWarning: Passing (type, 1) or '1type' as a synonym of type is deprecated; in a future version of numpy, it will be understood as (type, (1,)) / '(1,)type'.\n",
      "  _np_quint16 = np.dtype([(\"quint16\", np.uint16, 1)])\n",
      "C:\\ProgramData\\Anaconda3\\lib\\site-packages\\tensorflow\\python\\framework\\dtypes.py:520: FutureWarning: Passing (type, 1) or '1type' as a synonym of type is deprecated; in a future version of numpy, it will be understood as (type, (1,)) / '(1,)type'.\n",
      "  _np_qint32 = np.dtype([(\"qint32\", np.int32, 1)])\n",
      "C:\\ProgramData\\Anaconda3\\lib\\site-packages\\tensorflow\\python\\framework\\dtypes.py:525: FutureWarning: Passing (type, 1) or '1type' as a synonym of type is deprecated; in a future version of numpy, it will be understood as (type, (1,)) / '(1,)type'.\n",
      "  np_resource = np.dtype([(\"resource\", np.ubyte, 1)])\n",
      "C:\\ProgramData\\Anaconda3\\lib\\site-packages\\tensorboard\\compat\\tensorflow_stub\\dtypes.py:541: FutureWarning: Passing (type, 1) or '1type' as a synonym of type is deprecated; in a future version of numpy, it will be understood as (type, (1,)) / '(1,)type'.\n",
      "  _np_qint8 = np.dtype([(\"qint8\", np.int8, 1)])\n",
      "C:\\ProgramData\\Anaconda3\\lib\\site-packages\\tensorboard\\compat\\tensorflow_stub\\dtypes.py:542: FutureWarning: Passing (type, 1) or '1type' as a synonym of type is deprecated; in a future version of numpy, it will be understood as (type, (1,)) / '(1,)type'.\n",
      "  _np_quint8 = np.dtype([(\"quint8\", np.uint8, 1)])\n",
      "C:\\ProgramData\\Anaconda3\\lib\\site-packages\\tensorboard\\compat\\tensorflow_stub\\dtypes.py:543: FutureWarning: Passing (type, 1) or '1type' as a synonym of type is deprecated; in a future version of numpy, it will be understood as (type, (1,)) / '(1,)type'.\n",
      "  _np_qint16 = np.dtype([(\"qint16\", np.int16, 1)])\n",
      "C:\\ProgramData\\Anaconda3\\lib\\site-packages\\tensorboard\\compat\\tensorflow_stub\\dtypes.py:544: FutureWarning: Passing (type, 1) or '1type' as a synonym of type is deprecated; in a future version of numpy, it will be understood as (type, (1,)) / '(1,)type'.\n",
      "  _np_quint16 = np.dtype([(\"quint16\", np.uint16, 1)])\n",
      "C:\\ProgramData\\Anaconda3\\lib\\site-packages\\tensorboard\\compat\\tensorflow_stub\\dtypes.py:545: FutureWarning: Passing (type, 1) or '1type' as a synonym of type is deprecated; in a future version of numpy, it will be understood as (type, (1,)) / '(1,)type'.\n",
      "  _np_qint32 = np.dtype([(\"qint32\", np.int32, 1)])\n",
      "C:\\ProgramData\\Anaconda3\\lib\\site-packages\\tensorboard\\compat\\tensorflow_stub\\dtypes.py:550: FutureWarning: Passing (type, 1) or '1type' as a synonym of type is deprecated; in a future version of numpy, it will be understood as (type, (1,)) / '(1,)type'.\n",
      "  np_resource = np.dtype([(\"resource\", np.ubyte, 1)])\n"
     ]
    },
    {
     "data": {
      "text/plain": [
       "'1.14.0'"
      ]
     },
     "execution_count": 2,
     "metadata": {},
     "output_type": "execute_result"
    }
   ],
   "source": [
    "import os\n",
    "import tensorflow as tf\n",
    "import tensorflow.keras as keras\n",
    "from tensorflow.keras.preprocessing.image import ImageDataGenerator\n",
    "from tensorflow.keras import Sequential\n",
    "from tensorflow.keras.layers import Conv2D, MaxPool2D,Dense, Dropout\n",
    "tf.__version__"
   ]
  },
  {
   "cell_type": "code",
   "execution_count": 3,
   "metadata": {},
   "outputs": [
    {
     "name": "stdout",
     "output_type": "stream",
     "text": [
      "Found 1738 images belonging to 2 classes.\n",
      "Found 208 images belonging to 2 classes.\n",
      "Found 4 images belonging to 2 classes.\n"
     ]
    }
   ],
   "source": [
    "train = ImageDataGenerator(rescale=1./255).flow_from_directory(train_dir)\n",
    "test = ImageDataGenerator(rescale=1./255).flow_from_directory(test_dir)\n",
    "val = ImageDataGenerator(rescale=1./255).flow_from_directory(validation_dir)"
   ]
  },
  {
   "cell_type": "code",
   "execution_count": 4,
   "metadata": {},
   "outputs": [
    {
     "data": {
      "text/plain": [
       "array([0, 0, 0, ..., 1, 1, 1])"
      ]
     },
     "execution_count": 4,
     "metadata": {},
     "output_type": "execute_result"
    }
   ],
   "source": [
    "train.labels"
   ]
  },
  {
   "cell_type": "markdown",
   "metadata": {},
   "source": [
    "## Designing the Model\n",
    "\n",
    "Now it's time to design your CNN using Keras! Remember a few things when doing this: \n",
    "\n",
    "- You should alternate convolutional and pooling layers\n",
    "- You should have later layers have a larger number of parameters in order to detect more abstract patterns\n",
    "- Add some final dense layers to add a classifier to the convolutional base \n",
    "- Compile this model "
   ]
  },
  {
   "cell_type": "code",
   "execution_count": 14,
   "metadata": {},
   "outputs": [],
   "source": [
    "from tensorflow.keras.metrics import AUC, Recall"
   ]
  },
  {
   "cell_type": "code",
   "execution_count": 49,
   "metadata": {},
   "outputs": [],
   "source": [
    "model = Sequential()\n",
    "model.add(Conv2D(16, (5,5), activation='relu', input_shape = (256,256,3)))\n",
    "model.add(MaxPool2D(pool_size=(2,2)))\n",
    "model.add(Conv2D(32, (5,5), activation='relu'))\n",
    "model.add(MaxPool2D(pool_size=(2,2)))\n",
    "model.add(Conv2D(64, (5,5), activation='relu'))\n",
    "model.add(MaxPool2D(pool_size=(2,2)))\n",
    "model.add(Conv2D(128, (5,5), activation='relu'))\n",
    "model.add(MaxPool2D(pool_size=(3,3)))\n",
    "model.add(keras.layers.Flatten())\n",
    "model.add(Dense(119, activation = 'relu'))\n",
    "model.add(Dense(47, activation='relu'))\n",
    "model.add(Dense(2, activation='sigmoid'))\n",
    "\n",
    "model.compile(loss='binary_crossentropy',\n",
    "              optimizer=\"adam\",\n",
    "              metrics=['accuracy','AUC', 'Recall'])"
   ]
  },
  {
   "cell_type": "markdown",
   "metadata": {},
   "source": [
    "## Training and Evaluating the Model\n",
    "\n",
    "Remember that training deep networks is resource intensive: depending on the size of the data, even a CNN with 3-4 successive convolutional and pooling layers is apt to take a hours to train on a high end laptop. Using 30 epochs and 8 layers (alternating between convolutional and pooling), our model took about 40 minutes to run on a year old macbook pro.\n",
    "\n",
    "\n",
    "If you are concerned with runtime, you may want to set your model to run the training epochs overnight.  \n",
    "\n",
    "**If you are going to run this process overnight, be sure to also script code for the following questions concerning data augmentation. Check your code twice (or more) and then set the notebook to run all, or something equivalent to have them train overnight.** "
   ]
  },
  {
   "cell_type": "code",
   "execution_count": 51,
   "metadata": {},
   "outputs": [
    {
     "name": "stdout",
     "output_type": "stream",
     "text": [
      "Epoch 1/25\n",
      "25/25 [==============================] - 42s 2s/step - loss: 0.5064 - acc: 0.7500 - auc_10: 0.8285 - recall_10: 0.7337\n",
      "Epoch 2/25\n",
      "25/25 [==============================] - 48s 2s/step - loss: 0.4671 - acc: 0.7763 - auc_10: 0.8538 - recall_10: 0.7738\n",
      "Epoch 3/25\n",
      "25/25 [==============================] - 47s 2s/step - loss: 0.4344 - acc: 0.7494 - auc_10: 0.8572 - recall_10: 0.7404\n",
      "Epoch 4/25\n",
      "25/25 [==============================] - 39s 2s/step - loss: 0.4644 - acc: 0.7686 - auc_10: 0.8604 - recall_10: 0.7789\n",
      "Epoch 5/25\n",
      "25/25 [==============================] - 41s 2s/step - loss: 0.4517 - acc: 0.7700 - auc_10: 0.8569 - recall_10: 0.7763\n",
      "Epoch 6/25\n",
      "25/25 [==============================] - 41s 2s/step - loss: 0.4707 - acc: 0.7674 - auc_10: 0.8622 - recall_10: 0.7584\n",
      "Epoch 7/25\n",
      "25/25 [==============================] - 50s 2s/step - loss: 0.4160 - acc: 0.8144 - auc_10: 0.9061 - recall_10: 0.8250\n",
      "Epoch 8/25\n",
      "25/25 [==============================] - 41s 2s/step - loss: 0.4312 - acc: 0.7937 - auc_10: 0.8819 - recall_10: 0.7975\n",
      "Epoch 9/25\n",
      "25/25 [==============================] - 40s 2s/step - loss: 0.3781 - acc: 0.7950 - auc_10: 0.9013 - recall_10: 0.7905\n",
      "Epoch 10/25\n",
      "25/25 [==============================] - 45s 2s/step - loss: 0.3676 - acc: 0.8169 - auc_10: 0.9127 - recall_10: 0.8263\n",
      "Epoch 11/25\n",
      "25/25 [==============================] - 54s 2s/step - loss: 0.4266 - acc: 0.7969 - auc_10: 0.8936 - recall_10: 0.8046\n",
      "Epoch 12/25\n",
      "25/25 [==============================] - 41s 2s/step - loss: 0.4158 - acc: 0.7906 - auc_10: 0.8956 - recall_10: 0.7875\n",
      "Epoch 13/25\n",
      "25/25 [==============================] - 39s 2s/step - loss: 0.3657 - acc: 0.8419 - auc_10: 0.9205 - recall_10: 0.8445\n",
      "Epoch 14/25\n",
      "25/25 [==============================] - 40s 2s/step - loss: 0.3388 - acc: 0.8413 - auc_10: 0.9278 - recall_10: 0.8406\n",
      "Epoch 15/25\n",
      "25/25 [==============================] - 47s 2s/step - loss: 0.3034 - acc: 0.8750 - auc_10: 0.9489 - recall_10: 0.8725\n",
      "Epoch 16/25\n",
      "25/25 [==============================] - 41s 2s/step - loss: 0.3785 - acc: 0.8225 - auc_10: 0.9110 - recall_10: 0.8275\n",
      "Epoch 17/25\n",
      "25/25 [==============================] - 40s 2s/step - loss: 0.3493 - acc: 0.8500 - auc_10: 0.9301 - recall_10: 0.8600\n",
      "Epoch 18/25\n",
      "25/25 [==============================] - 50s 2s/step - loss: 0.3569 - acc: 0.8528 - auc_10: 0.9333 - recall_10: 0.8586\n",
      "Epoch 19/25\n",
      "25/25 [==============================] - 45s 2s/step - loss: 0.3185 - acc: 0.8567 - auc_10: 0.9376 - recall_10: 0.8612\n",
      "Epoch 20/25\n",
      "25/25 [==============================] - 40s 2s/step - loss: 0.2945 - acc: 0.8781 - auc_10: 0.9499 - recall_10: 0.8763\n",
      "Epoch 21/25\n",
      "25/25 [==============================] - 40s 2s/step - loss: 0.2892 - acc: 0.8644 - auc_10: 0.9487 - recall_10: 0.8612\n",
      "Epoch 22/25\n",
      "25/25 [==============================] - 46s 2s/step - loss: 0.2777 - acc: 0.8800 - auc_10: 0.9542 - recall_10: 0.8775\n",
      "Epoch 23/25\n",
      "25/25 [==============================] - 41s 2s/step - loss: 0.2927 - acc: 0.8830 - auc_10: 0.9522 - recall_10: 0.8856\n",
      "Epoch 24/25\n",
      "25/25 [==============================] - 41s 2s/step - loss: 0.3154 - acc: 0.8569 - auc_10: 0.9387 - recall_10: 0.8512\n",
      "Epoch 25/25\n",
      "25/25 [==============================] - 55s 2s/step - loss: 0.2627 - acc: 0.8965 - auc_10: 0.9580 - recall_10: 0.8946\n"
     ]
    },
    {
     "data": {
      "text/plain": [
       "<tensorflow.python.keras.callbacks.History at 0x2720d815308>"
      ]
     },
     "execution_count": 51,
     "metadata": {},
     "output_type": "execute_result"
    }
   ],
   "source": [
    "# Set the model to train \n",
    "# ⏰ This cell may take several minutes to run \n",
    "model.fit(\n",
    "    train,\n",
    "    steps_per_epoch=25,\n",
    "    epochs=25,\n",
    "    batch_size = 128\n",
    ")"
   ]
  },
  {
   "cell_type": "code",
   "execution_count": 23,
   "metadata": {},
   "outputs": [
    {
     "name": "stdout",
     "output_type": "stream",
     "text": [
      "Model: \"sequential_4\"\n",
      "_________________________________________________________________\n",
      "Layer (type)                 Output Shape              Param #   \n",
      "=================================================================\n",
      "conv2d_16 (Conv2D)           (None, 252, 252, 16)      1216      \n",
      "_________________________________________________________________\n",
      "max_pooling2d_16 (MaxPooling (None, 126, 126, 16)      0         \n",
      "_________________________________________________________________\n",
      "conv2d_17 (Conv2D)           (None, 122, 122, 32)      12832     \n",
      "_________________________________________________________________\n",
      "max_pooling2d_17 (MaxPooling (None, 61, 61, 32)        0         \n",
      "_________________________________________________________________\n",
      "conv2d_18 (Conv2D)           (None, 57, 57, 64)        51264     \n",
      "_________________________________________________________________\n",
      "max_pooling2d_18 (MaxPooling (None, 28, 28, 64)        0         \n",
      "_________________________________________________________________\n",
      "conv2d_19 (Conv2D)           (None, 24, 24, 128)       204928    \n",
      "_________________________________________________________________\n",
      "max_pooling2d_19 (MaxPooling (None, 12, 12, 128)       0         \n",
      "_________________________________________________________________\n",
      "flatten_4 (Flatten)          (None, 18432)             0         \n",
      "_________________________________________________________________\n",
      "dense_12 (Dense)             (None, 31)                571423    \n",
      "_________________________________________________________________\n",
      "dense_13 (Dense)             (None, 17)                544       \n",
      "_________________________________________________________________\n",
      "dense_14 (Dense)             (None, 2)                 36        \n",
      "=================================================================\n",
      "Total params: 842,243\n",
      "Trainable params: 842,243\n",
      "Non-trainable params: 0\n",
      "_________________________________________________________________\n"
     ]
    }
   ],
   "source": [
    "# Plot history\n",
    "import matplotlib.pyplot as plt\n",
    "%matplotlib inline\n",
    "model.summary()"
   ]
  },
  {
   "cell_type": "markdown",
   "metadata": {},
   "source": [
    "## Save the Model"
   ]
  },
  {
   "cell_type": "code",
   "execution_count": 52,
   "metadata": {},
   "outputs": [],
   "source": [
    "# Your code here; save the model for future reference \n",
    "model.save('./chest_xray_downsampled_data.h5')"
   ]
  },
  {
   "cell_type": "code",
   "execution_count": 53,
   "metadata": {},
   "outputs": [
    {
     "name": "stdout",
     "output_type": "stream",
     "text": [
      "55/55 [==============================] - 59s 1s/step - loss: 0.2892 - acc: 0.8795 - auc_10: 0.9511 - recall_10: 0.8890\n"
     ]
    },
    {
     "data": {
      "text/plain": [
       "[0.28919053280895407, 0.87945914, 0.9510891, 0.8889528]"
      ]
     },
     "execution_count": 53,
     "metadata": {},
     "output_type": "execute_result"
    }
   ],
   "source": [
    "y_hat = model.predict(train, batch_size=128)\n",
    "model.evaluate(train)"
   ]
  },
  {
   "cell_type": "code",
   "execution_count": 55,
   "metadata": {},
   "outputs": [
    {
     "name": "stdout",
     "output_type": "stream",
     "text": [
      "7/7 [==============================] - 4s 587ms/step - loss: 0.6769 - acc: 0.6250 - auc_10: 0.5746 - recall_10: 0.6250\n"
     ]
    },
    {
     "data": {
      "text/plain": [
       "[0.6768826842308044, 0.625, 0.57461166, 0.625]"
      ]
     },
     "execution_count": 55,
     "metadata": {},
     "output_type": "execute_result"
    }
   ],
   "source": [
    "model.evaluate(test)"
   ]
  },
  {
   "cell_type": "code",
   "execution_count": 60,
   "metadata": {},
   "outputs": [
    {
     "data": {
      "text/plain": [
       "(32, 256, 256, 3)"
      ]
     },
     "execution_count": 60,
     "metadata": {},
     "output_type": "execute_result"
    }
   ],
   "source": [
    "test[0][0].shape"
   ]
  },
  {
   "cell_type": "code",
   "execution_count": null,
   "metadata": {},
   "outputs": [],
   "source": [
    "test[0][0].shape"
   ]
  },
  {
   "cell_type": "markdown",
   "metadata": {},
   "source": [
    "## Data Augmentation\n",
    "\n",
    "Recall that data augmentation is typically always a necessary step when using a small dataset as this one which you have been provided. As such, if you haven't already, implement a data augmentation setup.\n",
    "\n",
    "**Warning: ⏰ This process took nearly 4 hours to run on a relatively new macbook pro. As such, it is recommended that you simply code the setup and compare to the solution branch, or set the process to run overnight if you do choose to actually run the code.** "
   ]
  },
  {
   "cell_type": "code",
   "execution_count": null,
   "metadata": {},
   "outputs": [],
   "source": [
    "model = Sequential()\n",
    "model.add(Conv2D(16, (5,5), activation='relu', input_shape = (256,256,3)))\n",
    "model.add(MaxPool2D(pool_size=(2,2)))\n",
    "model.add(Conv2D(32, (5,5), activation='relu'))\n",
    "model.add(MaxPool2D(pool_size=(2,2)))\n",
    "model.add(Conv2D(64, (5,5), activation='relu'))\n",
    "model.add(MaxPool2D(pool_size=(2,2)))\n",
    "model.add(Conv2D(128, (5,5), activation='relu'))\n",
    "model.add(MaxPool2D(pool_size=(2,2)))\n",
    "model.add(keras.layers.Flatten())\n",
    "model.add(Dense(1000, activation = 'relu'))\n",
    "model.add(Dense(250, activation='relu'))\n",
    "model.add(Dense(2, activation='sigmoid'))\n",
    "\n",
    "model.compile(loss='binary_crossentropy',\n",
    "              optimizer=\"adam\",\n",
    "              metrics=['accuracy','AUC', 'Recall'])"
   ]
  },
  {
   "cell_type": "code",
   "execution_count": 27,
   "metadata": {},
   "outputs": [
    {
     "name": "stdout",
     "output_type": "stream",
     "text": [
      "Model: \"sequential_4\"\n",
      "_________________________________________________________________\n",
      "Layer (type)                 Output Shape              Param #   \n",
      "=================================================================\n",
      "conv2d_16 (Conv2D)           (None, 252, 252, 16)      1216      \n",
      "_________________________________________________________________\n",
      "max_pooling2d_16 (MaxPooling (None, 126, 126, 16)      0         \n",
      "_________________________________________________________________\n",
      "conv2d_17 (Conv2D)           (None, 122, 122, 32)      12832     \n",
      "_________________________________________________________________\n",
      "max_pooling2d_17 (MaxPooling (None, 61, 61, 32)        0         \n",
      "_________________________________________________________________\n",
      "conv2d_18 (Conv2D)           (None, 57, 57, 64)        51264     \n",
      "_________________________________________________________________\n",
      "max_pooling2d_18 (MaxPooling (None, 28, 28, 64)        0         \n",
      "_________________________________________________________________\n",
      "conv2d_19 (Conv2D)           (None, 24, 24, 128)       204928    \n",
      "_________________________________________________________________\n",
      "max_pooling2d_19 (MaxPooling (None, 12, 12, 128)       0         \n",
      "_________________________________________________________________\n",
      "flatten_4 (Flatten)          (None, 18432)             0         \n",
      "_________________________________________________________________\n",
      "dense_12 (Dense)             (None, 31)                571423    \n",
      "_________________________________________________________________\n",
      "dense_13 (Dense)             (None, 17)                544       \n",
      "_________________________________________________________________\n",
      "dense_14 (Dense)             (None, 2)                 36        \n",
      "=================================================================\n",
      "Total params: 842,243\n",
      "Trainable params: 842,243\n",
      "Non-trainable params: 0\n",
      "_________________________________________________________________\n"
     ]
    }
   ],
   "source": [
    "model.summary()"
   ]
  },
  {
   "cell_type": "code",
   "execution_count": 28,
   "metadata": {},
   "outputs": [
    {
     "name": "stdout",
     "output_type": "stream",
     "text": [
      "Found 1738 images belonging to 2 classes.\n",
      "Epoch 1/25\n",
      "25/25 [==============================] - 41s 2s/step - loss: 0.2961 - acc: 0.8788 - auc_8: 0.9482 - recall_8: 0.8662\n",
      "Epoch 2/25\n",
      "25/25 [==============================] - 54s 2s/step - loss: 0.3267 - acc: 0.8406 - auc_8: 0.9354 - recall_8: 0.8303\n",
      "Epoch 3/25\n",
      "25/25 [==============================] - 43s 2s/step - loss: 0.3012 - acc: 0.8721 - auc_8: 0.9464 - recall_8: 0.8599\n",
      "Epoch 4/25\n",
      "25/25 [==============================] - 40s 2s/step - loss: 0.2682 - acc: 0.8775 - auc_8: 0.9549 - recall_8: 0.8712\n",
      "Epoch 5/25\n",
      "25/25 [==============================] - 40s 2s/step - loss: 0.5043 - acc: 0.7674 - auc_8: 0.8378 - recall_8: 0.7635\n",
      "Epoch 6/25\n",
      "25/25 [==============================] - 59s 2s/step - loss: 0.5842 - acc: 0.7188 - auc_8: 0.8061 - recall_8: 0.6963\n",
      "Epoch 7/25\n",
      "25/25 [==============================] - 44s 2s/step - loss: 0.5101 - acc: 0.7250 - auc_8: 0.8221 - recall_8: 0.7287\n",
      "Epoch 8/25\n",
      "25/25 [==============================] - 39s 2s/step - loss: 0.4666 - acc: 0.6806 - auc_8: 0.8103 - recall_8: 0.6799\n",
      "Epoch 9/25\n",
      "25/25 [==============================] - 40s 2s/step - loss: 0.4202 - acc: 0.7425 - auc_8: 0.8672 - recall_8: 0.7425\n",
      "Epoch 10/25\n",
      "25/25 [==============================] - 45s 2s/step - loss: 0.4350 - acc: 0.7756 - auc_8: 0.8732 - recall_8: 0.7750\n",
      "Epoch 11/25\n",
      "25/25 [==============================] - 58s 2s/step - loss: 0.4157 - acc: 0.8104 - auc_8: 0.9005 - recall_8: 0.8188\n",
      "Epoch 12/25\n",
      "25/25 [==============================] - 43s 2s/step - loss: 0.4467 - acc: 0.7581 - auc_8: 0.8749 - recall_8: 0.7663\n",
      "Epoch 13/25\n",
      "25/25 [==============================] - 40s 2s/step - loss: 0.4194 - acc: 0.7789 - auc_8: 0.8850 - recall_8: 0.7699\n",
      "Epoch 14/25\n",
      "25/25 [==============================] - 40s 2s/step - loss: 0.3929 - acc: 0.7834 - auc_8: 0.9069 - recall_8: 0.7841\n",
      "Epoch 15/25\n",
      "25/25 [==============================] - 50s 2s/step - loss: 0.4912 - acc: 0.7237 - auc_8: 0.8337 - recall_8: 0.7250\n",
      "Epoch 16/25\n",
      "25/25 [==============================] - 45s 2s/step - loss: 0.3530 - acc: 0.8100 - auc_8: 0.9065 - recall_8: 0.8100\n",
      "Epoch 17/25\n",
      "25/25 [==============================] - 40s 2s/step - loss: 0.4587 - acc: 0.7056 - auc_8: 0.8255 - recall_8: 0.7063\n",
      "Epoch 18/25\n",
      "25/25 [==============================] - 40s 2s/step - loss: 0.6412 - acc: 0.6928 - auc_8: 0.8099 - recall_8: 0.6928\n",
      "Epoch 19/25\n",
      "25/25 [==============================] - 53s 2s/step - loss: 0.4533 - acc: 0.7346 - auc_8: 0.8560 - recall_8: 0.7494\n",
      "Epoch 20/25\n",
      "25/25 [==============================] - 45s 2s/step - loss: 0.4645 - acc: 0.7675 - auc_8: 0.8753 - recall_8: 0.7650\n",
      "Epoch 21/25\n",
      "25/25 [==============================] - 39s 2s/step - loss: 0.4984 - acc: 0.7481 - auc_8: 0.8653 - recall_8: 0.7481\n",
      "Epoch 22/25\n",
      "25/25 [==============================] - 40s 2s/step - loss: 0.4146 - acc: 0.7719 - auc_8: 0.8846 - recall_8: 0.7700\n",
      "Epoch 23/25\n",
      "25/25 [==============================] - 54s 2s/step - loss: 0.3843 - acc: 0.8156 - auc_8: 0.9079 - recall_8: 0.8112\n",
      "Epoch 24/25\n",
      "25/25 [==============================] - 48s 2s/step - loss: 0.3656 - acc: 0.7924 - auc_8: 0.8995 - recall_8: 0.8008\n",
      "Epoch 25/25\n",
      "25/25 [==============================] - 41s 2s/step - loss: 0.3905 - acc: 0.8087 - auc_8: 0.8995 - recall_8: 0.8087\n"
     ]
    }
   ],
   "source": [
    "# Add data augmentation to the model setup and set the model to train; \n",
    "# See warnings above if you intend to run this block of code \n",
    "# ⏰ This cell may take several hours to run \n",
    "train = ImageDataGenerator(rotation_range=40, \n",
    "                                   width_shift_range=0.2, \n",
    "                                   height_shift_range=0.2, \n",
    "                                   shear_range=0.2, \n",
    "                                   zoom_range=0.2, \n",
    "                                   horizontal_flip=True, \n",
    "                                   fill_mode='nearest').flow_from_directory(train_dir,target_size=(256,256))\n",
    "# print(train[0][0])\n",
    "\n",
    "history = model.fit(\n",
    "    train,\n",
    "    steps_per_epoch=1,\n",
    "    epochs=25,\n",
    "    batch_size = 128\n",
    ")"
   ]
  },
  {
   "cell_type": "code",
   "execution_count": 32,
   "metadata": {},
   "outputs": [
    {
     "data": {
      "text/html": [
       "<div>\n",
       "<style scoped>\n",
       "    .dataframe tbody tr th:only-of-type {\n",
       "        vertical-align: middle;\n",
       "    }\n",
       "\n",
       "    .dataframe tbody tr th {\n",
       "        vertical-align: top;\n",
       "    }\n",
       "\n",
       "    .dataframe thead th {\n",
       "        text-align: right;\n",
       "    }\n",
       "</style>\n",
       "<table border=\"1\" class=\"dataframe\">\n",
       "  <thead>\n",
       "    <tr style=\"text-align: right;\">\n",
       "      <th></th>\n",
       "      <th>loss</th>\n",
       "      <th>acc</th>\n",
       "      <th>auc_8</th>\n",
       "      <th>recall_8</th>\n",
       "    </tr>\n",
       "  </thead>\n",
       "  <tbody>\n",
       "    <tr>\n",
       "      <th>0</th>\n",
       "      <td>0.296092</td>\n",
       "      <td>0.878750</td>\n",
       "      <td>0.948246</td>\n",
       "      <td>0.866250</td>\n",
       "    </tr>\n",
       "    <tr>\n",
       "      <th>1</th>\n",
       "      <td>0.325763</td>\n",
       "      <td>0.840617</td>\n",
       "      <td>0.935359</td>\n",
       "      <td>0.830334</td>\n",
       "    </tr>\n",
       "    <tr>\n",
       "      <th>2</th>\n",
       "      <td>0.305006</td>\n",
       "      <td>0.872108</td>\n",
       "      <td>0.946424</td>\n",
       "      <td>0.859897</td>\n",
       "    </tr>\n",
       "    <tr>\n",
       "      <th>3</th>\n",
       "      <td>0.268175</td>\n",
       "      <td>0.877500</td>\n",
       "      <td>0.954863</td>\n",
       "      <td>0.871250</td>\n",
       "    </tr>\n",
       "    <tr>\n",
       "      <th>4</th>\n",
       "      <td>0.515242</td>\n",
       "      <td>0.767352</td>\n",
       "      <td>0.837824</td>\n",
       "      <td>0.763496</td>\n",
       "    </tr>\n",
       "    <tr>\n",
       "      <th>5</th>\n",
       "      <td>0.584175</td>\n",
       "      <td>0.718750</td>\n",
       "      <td>0.806072</td>\n",
       "      <td>0.696250</td>\n",
       "    </tr>\n",
       "    <tr>\n",
       "      <th>6</th>\n",
       "      <td>0.510065</td>\n",
       "      <td>0.725000</td>\n",
       "      <td>0.822061</td>\n",
       "      <td>0.728750</td>\n",
       "    </tr>\n",
       "    <tr>\n",
       "      <th>7</th>\n",
       "      <td>0.469372</td>\n",
       "      <td>0.680591</td>\n",
       "      <td>0.810282</td>\n",
       "      <td>0.679949</td>\n",
       "    </tr>\n",
       "    <tr>\n",
       "      <th>8</th>\n",
       "      <td>0.420175</td>\n",
       "      <td>0.742500</td>\n",
       "      <td>0.867215</td>\n",
       "      <td>0.742500</td>\n",
       "    </tr>\n",
       "    <tr>\n",
       "      <th>9</th>\n",
       "      <td>0.434964</td>\n",
       "      <td>0.775625</td>\n",
       "      <td>0.873151</td>\n",
       "      <td>0.775000</td>\n",
       "    </tr>\n",
       "    <tr>\n",
       "      <th>10</th>\n",
       "      <td>0.417670</td>\n",
       "      <td>0.810411</td>\n",
       "      <td>0.900529</td>\n",
       "      <td>0.818766</td>\n",
       "    </tr>\n",
       "    <tr>\n",
       "      <th>11</th>\n",
       "      <td>0.446722</td>\n",
       "      <td>0.758125</td>\n",
       "      <td>0.874947</td>\n",
       "      <td>0.766250</td>\n",
       "    </tr>\n",
       "    <tr>\n",
       "      <th>12</th>\n",
       "      <td>0.422003</td>\n",
       "      <td>0.778920</td>\n",
       "      <td>0.884968</td>\n",
       "      <td>0.769923</td>\n",
       "    </tr>\n",
       "    <tr>\n",
       "      <th>13</th>\n",
       "      <td>0.393069</td>\n",
       "      <td>0.783419</td>\n",
       "      <td>0.906859</td>\n",
       "      <td>0.784062</td>\n",
       "    </tr>\n",
       "    <tr>\n",
       "      <th>14</th>\n",
       "      <td>0.491209</td>\n",
       "      <td>0.723750</td>\n",
       "      <td>0.833651</td>\n",
       "      <td>0.725000</td>\n",
       "    </tr>\n",
       "    <tr>\n",
       "      <th>15</th>\n",
       "      <td>0.352976</td>\n",
       "      <td>0.810000</td>\n",
       "      <td>0.906484</td>\n",
       "      <td>0.810000</td>\n",
       "    </tr>\n",
       "    <tr>\n",
       "      <th>16</th>\n",
       "      <td>0.458686</td>\n",
       "      <td>0.705625</td>\n",
       "      <td>0.825533</td>\n",
       "      <td>0.706250</td>\n",
       "    </tr>\n",
       "    <tr>\n",
       "      <th>17</th>\n",
       "      <td>0.643957</td>\n",
       "      <td>0.692802</td>\n",
       "      <td>0.809885</td>\n",
       "      <td>0.692802</td>\n",
       "    </tr>\n",
       "    <tr>\n",
       "      <th>18</th>\n",
       "      <td>0.453005</td>\n",
       "      <td>0.734576</td>\n",
       "      <td>0.855974</td>\n",
       "      <td>0.749357</td>\n",
       "    </tr>\n",
       "    <tr>\n",
       "      <th>19</th>\n",
       "      <td>0.464462</td>\n",
       "      <td>0.767500</td>\n",
       "      <td>0.875316</td>\n",
       "      <td>0.765000</td>\n",
       "    </tr>\n",
       "    <tr>\n",
       "      <th>20</th>\n",
       "      <td>0.486172</td>\n",
       "      <td>0.748072</td>\n",
       "      <td>0.865278</td>\n",
       "      <td>0.748072</td>\n",
       "    </tr>\n",
       "    <tr>\n",
       "      <th>21</th>\n",
       "      <td>0.414631</td>\n",
       "      <td>0.771875</td>\n",
       "      <td>0.884630</td>\n",
       "      <td>0.770000</td>\n",
       "    </tr>\n",
       "    <tr>\n",
       "      <th>22</th>\n",
       "      <td>0.384340</td>\n",
       "      <td>0.815625</td>\n",
       "      <td>0.907850</td>\n",
       "      <td>0.811250</td>\n",
       "    </tr>\n",
       "    <tr>\n",
       "      <th>23</th>\n",
       "      <td>0.371487</td>\n",
       "      <td>0.792416</td>\n",
       "      <td>0.899512</td>\n",
       "      <td>0.800771</td>\n",
       "    </tr>\n",
       "    <tr>\n",
       "      <th>24</th>\n",
       "      <td>0.390519</td>\n",
       "      <td>0.808750</td>\n",
       "      <td>0.899506</td>\n",
       "      <td>0.808750</td>\n",
       "    </tr>\n",
       "  </tbody>\n",
       "</table>\n",
       "</div>"
      ],
      "text/plain": [
       "        loss       acc     auc_8  recall_8\n",
       "0   0.296092  0.878750  0.948246  0.866250\n",
       "1   0.325763  0.840617  0.935359  0.830334\n",
       "2   0.305006  0.872108  0.946424  0.859897\n",
       "3   0.268175  0.877500  0.954863  0.871250\n",
       "4   0.515242  0.767352  0.837824  0.763496\n",
       "5   0.584175  0.718750  0.806072  0.696250\n",
       "6   0.510065  0.725000  0.822061  0.728750\n",
       "7   0.469372  0.680591  0.810282  0.679949\n",
       "8   0.420175  0.742500  0.867215  0.742500\n",
       "9   0.434964  0.775625  0.873151  0.775000\n",
       "10  0.417670  0.810411  0.900529  0.818766\n",
       "11  0.446722  0.758125  0.874947  0.766250\n",
       "12  0.422003  0.778920  0.884968  0.769923\n",
       "13  0.393069  0.783419  0.906859  0.784062\n",
       "14  0.491209  0.723750  0.833651  0.725000\n",
       "15  0.352976  0.810000  0.906484  0.810000\n",
       "16  0.458686  0.705625  0.825533  0.706250\n",
       "17  0.643957  0.692802  0.809885  0.692802\n",
       "18  0.453005  0.734576  0.855974  0.749357\n",
       "19  0.464462  0.767500  0.875316  0.765000\n",
       "20  0.486172  0.748072  0.865278  0.748072\n",
       "21  0.414631  0.771875  0.884630  0.770000\n",
       "22  0.384340  0.815625  0.907850  0.811250\n",
       "23  0.371487  0.792416  0.899512  0.800771\n",
       "24  0.390519  0.808750  0.899506  0.808750"
      ]
     },
     "execution_count": 32,
     "metadata": {},
     "output_type": "execute_result"
    }
   ],
   "source": [
    "import pandas as pd\n",
    "df1 = pd.DataFrame.from_dict(history.history)\n",
    "df1"
   ]
  },
  {
   "cell_type": "code",
   "execution_count": 46,
   "metadata": {},
   "outputs": [
    {
     "data": {
      "image/png": "[encoded data removed]",
      "text/plain": [
       "<Figure size 720x720 with 1 Axes>"
      ]
     },
     "metadata": {
      "needs_background": "light"
     },
     "output_type": "display_data"
    }
   ],
   "source": [
    "fig,ax = plt.subplots(figsize = (10,10))\n",
    "df1.plot(\n",
    "    title = 'NN Metrics',\n",
    "    xlabel = '# Ephochs',\n",
    "    ylabel = 'Normalized Metric Score',\n",
    "    marker = 'o',\n",
    "    ax = ax\n",
    ");"
   ]
  },
  {
   "cell_type": "markdown",
   "metadata": {},
   "source": [
    "Save the model for future reference.  "
   ]
  },
  {
   "cell_type": "code",
   "execution_count": 47,
   "metadata": {},
   "outputs": [],
   "source": [
    "# Save the model \n",
    "model.save('./chest_xray_downsampled_data.h5')"
   ]
  },
  {
   "cell_type": "markdown",
   "metadata": {},
   "source": [
    "## Final Evaluation\n",
    "\n",
    "Now use the test set to perform a final evaluation on your model of choice. "
   ]
  },
  {
   "cell_type": "code",
   "execution_count": 48,
   "metadata": {},
   "outputs": [
    {
     "name": "stdout",
     "output_type": "stream",
     "text": [
      "7/7 [==============================] - 4s 572ms/step - loss: 0.8259 - acc: 0.6250 - auc_8: 0.6145 - recall_8: 0.6250\n"
     ]
    },
    {
     "data": {
      "text/plain": [
       "[0.8258997797966003, 0.625, 0.6144832, 0.625]"
      ]
     },
     "execution_count": 48,
     "metadata": {},
     "output_type": "execute_result"
    }
   ],
   "source": [
    "# Your code here \n",
    "# Perform a final evaluation using the test set\n",
    "model.evaluate(test)"
   ]
  },
  {
   "cell_type": "markdown",
   "metadata": {},
   "source": [
    "## Level Up (Optional): Adding More Data to the Model\n",
    "\n",
    "As discussed, the current dataset we worked with is a subset of a dataset hosted on Kaggle. Increasing the data that we use to train the model will result in additional performance gains but will also result in longer training times and be more resource intensive.   \n",
    "\n",
    "⏰ It is estimated that training on the full dataset will take approximately 4 hours (and potentially significantly longer) depending on your computer's specifications.\n",
    "\n",
    "In order to test the impact of training on the full dataset, start by downloading the data from Kaggle here: https://www.kaggle.com/paultimothymooney/chest-xray-pneumonia.   "
   ]
  },
  {
   "cell_type": "code",
   "execution_count": null,
   "metadata": {},
   "outputs": [],
   "source": [
    "# Optional extension; Your code here\n",
    "# ⏰ This cell may take several hours to run "
   ]
  },
  {
   "cell_type": "markdown",
   "metadata": {},
   "source": [
    "## Summary\n",
    "\n",
    "Well done! In this lab, you practice building your own CNN for image recognition which drastically outperformed our previous attempts using a standard deep learning model alone. In the upcoming sections, we'll continue to investigate further techniques associated with CNNs including visualizing the representations they learn and techniques to further bolster their performance when we have limited training data such as here."
   ]
  }
 ],
 "metadata": {
  "kernelspec": {
   "display_name": "Python 3",
   "language": "python",
   "name": "python3"
  },
  "language_info": {
   "codemirror_mode": {
    "name": "ipython",
    "version": 3
   },
   "file_extension": ".py",
   "mimetype": "text/x-python",
   "name": "python",
   "nbconvert_exporter": "python",
   "pygments_lexer": "ipython3",
   "version": "3.7.9"
  },
  "toc": {
   "base_numbering": 1,
   "nav_menu": {},
   "number_sections": true,
   "sideBar": true,
   "skip_h1_title": false,
   "title_cell": "Table of Contents",
   "title_sidebar": "Contents",
   "toc_cell": false,
   "toc_position": {},
   "toc_section_display": true,
   "toc_window_display": false
  }
 },
 "nbformat": 4,
 "nbformat_minor": 2
}
